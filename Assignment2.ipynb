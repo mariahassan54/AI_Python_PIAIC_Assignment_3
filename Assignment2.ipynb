{
 "cells": [
  {
   "cell_type": "markdown",
   "metadata": {},
   "source": [
    "# Python Assignmnet\n",
    "## By Maria Hassan\n",
    "## Roll No. : PIAIC 73951\n",
    "## Time: 3:30 - 6:30 p.m.\n",
    " "
   ]
  },
  {
   "cell_type": "code",
   "execution_count": 18,
   "metadata": {},
   "outputs": [
    {
     "name": "stdout",
     "output_type": "stream",
     "text": [
      "Enter the key-value pair to search in dictionary, first enter key: w\n",
      "Enter value: 4\n",
      "The pair wasn't found\n",
      "The value has been updated in the dictionary\n",
      "{'a': '1', 'b': '2', 'c': '3', 'd': '4', 'e': '5', 'w': '4'}\n"
     ]
    }
   ],
   "source": [
    "## Q9\n",
    "x = input(\"Enter the key-value pair to search in dictionary, first enter key: \"\n",
    "        )\n",
    "y = input(\"Enter value: \")\n",
    "\n",
    "dic = {\n",
    "    'a':'1',\n",
    "    'b' : '2',\n",
    "    'c' : '3',\n",
    "    'd' : '4',\n",
    "    'e' : '5'\n",
    "      }\n",
    "z = False\n",
    "def search(x,y):\n",
    "    for key,value in dic.items():\n",
    "        if key == x and y == value:\n",
    "            z = True\n",
    "            return z\n",
    "            break\n",
    "\n",
    "z = search(x,y) \n",
    "if z == True:\n",
    "    print(\"The pair is present\")\n",
    "else:\n",
    "    print(\"The pair wasn't found\")\n",
    "    dic.update({x:y})\n",
    "    print(\"The value has been updated in the dictionary\")\n",
    "    print(dic)"
   ]
  },
  {
   "cell_type": "code",
   "execution_count": 5,
   "metadata": {},
   "outputs": [
    {
     "name": "stdout",
     "output_type": "stream",
     "text": [
      "Enter a string: helloworld\n"
     ]
    },
    {
     "ename": "TypeError",
     "evalue": "not all arguments converted during string formatting",
     "output_type": "error",
     "traceback": [
      "\u001b[1;31m---------------------------------------------------------------------------\u001b[0m",
      "\u001b[1;31mTypeError\u001b[0m                                 Traceback (most recent call last)",
      "\u001b[1;32m<ipython-input-5-972f9eea3e42>\u001b[0m in \u001b[0;36m<module>\u001b[1;34m\u001b[0m\n\u001b[0;32m      6\u001b[0m \u001b[1;32mfor\u001b[0m \u001b[0my\u001b[0m \u001b[1;32min\u001b[0m \u001b[0mlis\u001b[0m\u001b[1;33m:\u001b[0m\u001b[1;33m\u001b[0m\u001b[1;33m\u001b[0m\u001b[0m\n\u001b[0;32m      7\u001b[0m     \u001b[0mfrequency\u001b[0m \u001b[1;33m=\u001b[0m \u001b[1;33m[\u001b[0m\u001b[0mlis\u001b[0m\u001b[1;33m.\u001b[0m\u001b[0mcount\u001b[0m\u001b[1;33m(\u001b[0m\u001b[0my\u001b[0m\u001b[1;33m)\u001b[0m\u001b[1;33m]\u001b[0m\u001b[1;33m\u001b[0m\u001b[1;33m\u001b[0m\u001b[0m\n\u001b[1;32m----> 8\u001b[1;33m     \u001b[1;32mif\u001b[0m \u001b[0my\u001b[0m\u001b[1;33m%\u001b[0m\u001b[1;36m2\u001b[0m \u001b[1;33m==\u001b[0m \u001b[1;36m0\u001b[0m\u001b[1;33m:\u001b[0m\u001b[1;33m\u001b[0m\u001b[1;33m\u001b[0m\u001b[0m\n\u001b[0m\u001b[0;32m      9\u001b[0m         \u001b[0mprint\u001b[0m\u001b[1;33m(\u001b[0m\u001b[0my\u001b[0m\u001b[1;33m)\u001b[0m\u001b[1;33m\u001b[0m\u001b[1;33m\u001b[0m\u001b[0m\n\u001b[0;32m     10\u001b[0m \u001b[1;33m\u001b[0m\u001b[0m\n",
      "\u001b[1;31mTypeError\u001b[0m: not all arguments converted during string formatting"
     ]
    }
   ],
   "source": [
    "## Q10\n",
    "\n",
    "x = input(\"Enter a string: \")\n",
    "lis = []\n",
    "lis = x.split()\n",
    "for y in lis:\n",
    "    frequency = lis.count(y)\n",
    "    if y%2 == 0:\n",
    "        print(y)\n",
    "    \n",
    "## not sure why the code won't execute"
   ]
  },
  {
   "cell_type": "code",
   "execution_count": 19,
   "metadata": {},
   "outputs": [
    {
     "name": "stdout",
     "output_type": "stream",
     "text": [
      "Enter marks: 88\n",
      "Grade: B\n"
     ]
    }
   ],
   "source": [
    "# Q46\n",
    "\n",
    "x = input(\"Enter marks: \")\n",
    "y = int(x)\n",
    "if y>=90 :\n",
    "    print(\"Grade: A\")\n",
    "elif y>=80 and y<90:\n",
    "    print(\"Grade: B\")\n",
    "elif y>=70 and y<80:\n",
    "    print(\"Grade: C\")\n",
    "elif y>60 and y<70:\n",
    "    print(\"Grade: D\")\n",
    "else:\n",
    "    print(\"Grade: E\")\n",
    "    "
   ]
  },
  {
   "cell_type": "code",
   "execution_count": null,
   "metadata": {},
   "outputs": [],
   "source": []
  }
 ],
 "metadata": {
  "kernelspec": {
   "display_name": "Python 3",
   "language": "python",
   "name": "python3"
  },
  "language_info": {
   "codemirror_mode": {
    "name": "ipython",
    "version": 3
   },
   "file_extension": ".py",
   "mimetype": "text/x-python",
   "name": "python",
   "nbconvert_exporter": "python",
   "pygments_lexer": "ipython3",
   "version": "3.7.4"
  }
 },
 "nbformat": 4,
 "nbformat_minor": 2
}
